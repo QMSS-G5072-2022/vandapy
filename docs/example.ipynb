{
 "cells": [
  {
   "cell_type": "markdown",
   "metadata": {},
   "source": [
    "# Example usage\n",
    "\n",
    "To use `vandapy` in a project:"
   ]
  },
  {
   "cell_type": "code",
   "execution_count": 1,
   "metadata": {},
   "outputs": [],
   "source": [
    "from vandapy import vandapy"
   ]
  },
  {
   "cell_type": "code",
   "execution_count": 2,
   "metadata": {
    "scrolled": true
   },
   "outputs": [
    {
     "name": "stdout",
     "output_type": "stream",
     "text": [
      "What kind of search were you looking to do?\n",
      "Type 1 to search generally\n",
      "Type 2 to search for a certain type of object (i.e book, painting)\n",
      "Type 3 to search for a certain material or technique (i.e silver as a material or etching as a technique)\n",
      "Type 4 to search for certain people, a person, or an organisation\n",
      "Type 5 to search for a certain title of the object (i.e the name of a painting)1\n",
      "Success!\n",
      "There are 25452 objects associated with the query China and 997 different pages\n"
     ]
    },
    {
     "data": {
      "text/html": [
       "<div>\n",
       "<style scoped>\n",
       "    .dataframe tbody tr th:only-of-type {\n",
       "        vertical-align: middle;\n",
       "    }\n",
       "\n",
       "    .dataframe tbody tr th {\n",
       "        vertical-align: top;\n",
       "    }\n",
       "\n",
       "    .dataframe thead th {\n",
       "        text-align: right;\n",
       "    }\n",
       "</style>\n",
       "<table border=\"1\" class=\"dataframe\">\n",
       "  <thead>\n",
       "    <tr style=\"text-align: right;\">\n",
       "      <th></th>\n",
       "      <th>Type</th>\n",
       "      <th>Title</th>\n",
       "      <th>Construction Date</th>\n",
       "      <th>Primary Location</th>\n",
       "      <th>systemNumber</th>\n",
       "      <th>_primaryImageId</th>\n",
       "      <th>Maker</th>\n",
       "      <th>Association</th>\n",
       "    </tr>\n",
       "  </thead>\n",
       "  <tbody>\n",
       "    <tr>\n",
       "      <th>0</th>\n",
       "      <td>Cup and saucer</td>\n",
       "      <td>Tulip</td>\n",
       "      <td>1931</td>\n",
       "      <td>Longton</td>\n",
       "      <td>O163544</td>\n",
       "      <td>2010EH1952</td>\n",
       "      <td>Paragon China Limited</td>\n",
       "      <td>maker</td>\n",
       "    </tr>\n",
       "    <tr>\n",
       "      <th>1</th>\n",
       "      <td>Coffee pot and cover</td>\n",
       "      <td>Tulip</td>\n",
       "      <td>1931</td>\n",
       "      <td>Longton</td>\n",
       "      <td>O163543</td>\n",
       "      <td>2010EH1942</td>\n",
       "      <td>Paragon China Limited</td>\n",
       "      <td>maker</td>\n",
       "    </tr>\n",
       "    <tr>\n",
       "      <th>2</th>\n",
       "      <td>Tile</td>\n",
       "      <td></td>\n",
       "      <td>2014</td>\n",
       "      <td>Beijing (city)</td>\n",
       "      <td>O1318745</td>\n",
       "      <td>2015HU5086</td>\n",
       "      <td>Recycled China</td>\n",
       "      <td>made</td>\n",
       "    </tr>\n",
       "    <tr>\n",
       "      <th>3</th>\n",
       "      <td>Tile</td>\n",
       "      <td></td>\n",
       "      <td>2014</td>\n",
       "      <td>Beijing (city)</td>\n",
       "      <td>O1318737</td>\n",
       "      <td>2015HU5074</td>\n",
       "      <td>Recycled China</td>\n",
       "      <td>made</td>\n",
       "    </tr>\n",
       "    <tr>\n",
       "      <th>4</th>\n",
       "      <td>Bowl</td>\n",
       "      <td>Tulip</td>\n",
       "      <td>1931</td>\n",
       "      <td>Longton</td>\n",
       "      <td>O278637</td>\n",
       "      <td>2010EH1945</td>\n",
       "      <td>Paragon China Limited</td>\n",
       "      <td>maker</td>\n",
       "    </tr>\n",
       "    <tr>\n",
       "      <th>5</th>\n",
       "      <td>Jug</td>\n",
       "      <td>Tulip</td>\n",
       "      <td>1931</td>\n",
       "      <td>Longton</td>\n",
       "      <td>O334686</td>\n",
       "      <td>2010EH1943</td>\n",
       "      <td>Paragon China Limited</td>\n",
       "      <td>maker</td>\n",
       "    </tr>\n",
       "    <tr>\n",
       "      <th>6</th>\n",
       "      <td>Plate</td>\n",
       "      <td>Tulip</td>\n",
       "      <td>middle 20th century</td>\n",
       "      <td>Longton</td>\n",
       "      <td>O170902</td>\n",
       "      <td>2009BX2847</td>\n",
       "      <td>Paragon China Limited</td>\n",
       "      <td>manufacturer</td>\n",
       "    </tr>\n",
       "    <tr>\n",
       "      <th>7</th>\n",
       "      <td>plate</td>\n",
       "      <td>Hyde Park</td>\n",
       "      <td>ca. 1959</td>\n",
       "      <td>Longton</td>\n",
       "      <td>O1531430</td>\n",
       "      <td>2010ED6754</td>\n",
       "      <td>Cooper, Susie</td>\n",
       "      <td>designer</td>\n",
       "    </tr>\n",
       "    <tr>\n",
       "      <th>8</th>\n",
       "      <td>Poster</td>\n",
       "      <td>China Appeal.</td>\n",
       "      <td>1989</td>\n",
       "      <td>London</td>\n",
       "      <td>O193635</td>\n",
       "      <td>2009BX0296</td>\n",
       "      <td>Unknown</td>\n",
       "      <td></td>\n",
       "    </tr>\n",
       "    <tr>\n",
       "      <th>9</th>\n",
       "      <td>Cup and saucer</td>\n",
       "      <td>Hyde Park</td>\n",
       "      <td>ca. 1959</td>\n",
       "      <td>Longton</td>\n",
       "      <td>O161998</td>\n",
       "      <td>2020MP6972</td>\n",
       "      <td>Cooper, Susie</td>\n",
       "      <td>designer</td>\n",
       "    </tr>\n",
       "  </tbody>\n",
       "</table>\n",
       "</div>"
      ],
      "text/plain": [
       "                   Type          Title    Construction Date Primary Location  \\\n",
       "0        Cup and saucer          Tulip                 1931          Longton   \n",
       "1  Coffee pot and cover          Tulip                 1931          Longton   \n",
       "2                  Tile                                2014   Beijing (city)   \n",
       "3                  Tile                                2014   Beijing (city)   \n",
       "4                  Bowl          Tulip                 1931          Longton   \n",
       "5                   Jug          Tulip                 1931          Longton   \n",
       "6                 Plate          Tulip  middle 20th century          Longton   \n",
       "7                 plate      Hyde Park             ca. 1959          Longton   \n",
       "8                Poster  China Appeal.                 1989           London   \n",
       "9        Cup and saucer      Hyde Park             ca. 1959          Longton   \n",
       "\n",
       "  systemNumber _primaryImageId                  Maker   Association  \n",
       "0      O163544      2010EH1952  Paragon China Limited         maker  \n",
       "1      O163543      2010EH1942  Paragon China Limited         maker  \n",
       "2     O1318745      2015HU5086         Recycled China          made  \n",
       "3     O1318737      2015HU5074         Recycled China          made  \n",
       "4      O278637      2010EH1945  Paragon China Limited         maker  \n",
       "5      O334686      2010EH1943  Paragon China Limited         maker  \n",
       "6      O170902      2009BX2847  Paragon China Limited  manufacturer  \n",
       "7     O1531430      2010ED6754          Cooper, Susie      designer  \n",
       "8      O193635      2009BX0296                Unknown                \n",
       "9      O161998      2020MP6972          Cooper, Susie      designer  "
      ]
     },
     "execution_count": 2,
     "metadata": {},
     "output_type": "execute_result"
    }
   ],
   "source": [
    "#search V&A for the query \"China\"\n",
    "vandapy.search(\"China\")"
   ]
  },
  {
   "cell_type": "code",
   "execution_count": 4,
   "metadata": {
    "scrolled": true
   },
   "outputs": [
    {
     "name": "stdout",
     "output_type": "stream",
     "text": [
      "What kind of search were you looking to do?\n",
      "Type 1 to search generally\n",
      "Type 2 to search for a certain type of object (i.e book, painting)\n",
      "Type 3 to search for a certain material or technique (i.e silver as a material or etching as a technique)\n",
      "Type 4 to search for certain people, a person, or an organisation\n",
      "Type 5 to search for a certain title of the object (i.e the name of a painting)5\n",
      "Success!\n",
      "There are 2684 objects associated with the query The Great Bed of Ware and 269 different pages\n",
      "Search is associated with these many results: 10\n",
      "Search is assocaited with these many unique makers: 6\n",
      "Location most associated with search: UK\n",
      "Search contains works created in these centuries: [19, 21]\n",
      "Search contains these types of works: ['Bed' 'Print' 'Drawing' 'Postcard' 'Flyer']\n"
     ]
    },
    {
     "data": {
      "text/plain": [
       "{'num_works': 10,\n",
       " 'num_artistis': 6,\n",
       " 'pop_loc': 'UK',\n",
       " 'centuries': [19, 21],\n",
       " 'types': array(['Bed', 'Print', 'Drawing', 'Postcard', 'Flyer'], dtype=object)}"
      ]
     },
     "execution_count": 4,
     "metadata": {},
     "output_type": "execute_result"
    }
   ],
   "source": [
    "#get a page summary for the query \"The Great Bed of Ware\"\n",
    "vandapy.page_summary(\"The Great Bed of Ware\")"
   ]
  },
  {
   "cell_type": "code",
   "execution_count": 5,
   "metadata": {
    "scrolled": true
   },
   "outputs": [
    {
     "name": "stdout",
     "output_type": "stream",
     "text": [
      "What kind of search were you looking to do?\n",
      "Type 1 to search generally\n",
      "Type 2 to search for a certain type of object (i.e book, painting)\n",
      "Type 3 to search for a certain material or technique (i.e silver as a material or etching as a technique)\n",
      "Type 4 to search for certain people, a person, or an organisation\n",
      "Type 5 to search for a certain title of the object (i.e the name of a painting)1\n",
      "Success!\n",
      "There are 84 objects associated with the query Barbie and 1 different pages\n",
      "https://framemark.vam.ac.uk/collections/2006AE7822/full/full/0/grey.jpg\n",
      "https://framemark.vam.ac.uk/collections/2006AN0713/full/full/0/grey.jpg\n",
      "https://framemark.vam.ac.uk/collections/2014GX5584/full/full/0/grey.jpg\n",
      "https://framemark.vam.ac.uk/collections/2016HY8414/full/full/0/grey.jpg\n",
      "https://framemark.vam.ac.uk/collections/2006BF0421/full/full/0/grey.jpg\n",
      "https://framemark.vam.ac.uk/collections/2010ED1572/full/full/0/grey.jpg\n",
      "https://framemark.vam.ac.uk/collections/2006AN0713/full/full/0/grey.jpg\n",
      "https://framemark.vam.ac.uk/collections/2021NB2079/full/full/0/grey.jpg\n",
      "https://framemark.vam.ac.uk/collections/2006BE6205/full/full/0/grey.jpg\n",
      "https://framemark.vam.ac.uk/collections/2006AY2687/full/full/0/grey.jpg\n",
      "https://framemark.vam.ac.uk/collections/2006AE8906/full/full/0/grey.jpg\n",
      "https://framemark.vam.ac.uk/collections/2006AY2463/full/full/0/grey.jpg\n",
      "https://framemark.vam.ac.uk/collections/2019MA0638/full/full/0/grey.jpg\n",
      "https://framemark.vam.ac.uk/collections/2017JV8061/full/full/0/grey.jpg\n",
      "https://framemark.vam.ac.uk/collections/2006AY2506/full/full/0/grey.jpg\n",
      "https://framemark.vam.ac.uk/collections/2006AN0713/full/full/0/grey.jpg\n",
      "https://framemark.vam.ac.uk/collections/2006AE7842/full/full/0/grey.jpg\n",
      "https://framemark.vam.ac.uk/collections/2006AF4920/full/full/0/grey.jpg\n",
      "https://framemark.vam.ac.uk/collections/2006AY2762/full/full/0/grey.jpg\n",
      "https://framemark.vam.ac.uk/collections/2006AY2619/full/full/0/grey.jpg\n",
      "https://framemark.vam.ac.uk/collections/2006AY2479/full/full/0/grey.jpg\n",
      "https://framemark.vam.ac.uk/collections/2006AN0713/full/full/0/grey.jpg\n",
      "https://framemark.vam.ac.uk/collections/2008BV1297/full/full/0/grey.jpg\n",
      "https://framemark.vam.ac.uk/collections/2022NC8467/full/full/0/grey.jpg\n",
      "https://framemark.vam.ac.uk/collections/2019LH9630/full/full/0/grey.jpg\n",
      "https://framemark.vam.ac.uk/collections/2018LH0636/full/full/0/grey.jpg\n",
      "https://framemark.vam.ac.uk/collections/2019LH9578/full/full/0/grey.jpg\n",
      "https://framemark.vam.ac.uk/collections/2006AY5804/full/full/0/grey.jpg\n"
     ]
    },
    {
     "data": {
      "text/plain": [
       "['https://framemark.vam.ac.uk/collections/2006AE7822/full/full/0/grey.jpg',\n",
       " 'https://framemark.vam.ac.uk/collections/2006AN0713/full/full/0/grey.jpg',\n",
       " 'https://framemark.vam.ac.uk/collections/2014GX5584/full/full/0/grey.jpg',\n",
       " 'https://framemark.vam.ac.uk/collections/2016HY8414/full/full/0/grey.jpg',\n",
       " 'https://framemark.vam.ac.uk/collections/2006BF0421/full/full/0/grey.jpg',\n",
       " 'https://framemark.vam.ac.uk/collections/2010ED1572/full/full/0/grey.jpg',\n",
       " 'https://framemark.vam.ac.uk/collections/2006AN0713/full/full/0/grey.jpg',\n",
       " 'https://framemark.vam.ac.uk/collections/2021NB2079/full/full/0/grey.jpg',\n",
       " 'https://framemark.vam.ac.uk/collections/2006BE6205/full/full/0/grey.jpg',\n",
       " 'https://framemark.vam.ac.uk/collections/2006AY2687/full/full/0/grey.jpg',\n",
       " 'https://framemark.vam.ac.uk/collections/2006AE8906/full/full/0/grey.jpg',\n",
       " 'https://framemark.vam.ac.uk/collections/2006AY2463/full/full/0/grey.jpg',\n",
       " 'https://framemark.vam.ac.uk/collections/2019MA0638/full/full/0/grey.jpg',\n",
       " 'https://framemark.vam.ac.uk/collections/2017JV8061/full/full/0/grey.jpg',\n",
       " 'https://framemark.vam.ac.uk/collections/2006AY2506/full/full/0/grey.jpg',\n",
       " 'https://framemark.vam.ac.uk/collections/2006AN0713/full/full/0/grey.jpg',\n",
       " 'https://framemark.vam.ac.uk/collections/2006AE7842/full/full/0/grey.jpg',\n",
       " 'https://framemark.vam.ac.uk/collections/2006AF4920/full/full/0/grey.jpg',\n",
       " 'https://framemark.vam.ac.uk/collections/2006AY2762/full/full/0/grey.jpg',\n",
       " 'https://framemark.vam.ac.uk/collections/2006AY2619/full/full/0/grey.jpg',\n",
       " 'https://framemark.vam.ac.uk/collections/2006AY2479/full/full/0/grey.jpg',\n",
       " 'https://framemark.vam.ac.uk/collections/2006AN0713/full/full/0/grey.jpg',\n",
       " 'https://framemark.vam.ac.uk/collections/2008BV1297/full/full/0/grey.jpg',\n",
       " 'https://framemark.vam.ac.uk/collections/2022NC8467/full/full/0/grey.jpg',\n",
       " 'https://framemark.vam.ac.uk/collections/2019LH9630/full/full/0/grey.jpg',\n",
       " 'https://framemark.vam.ac.uk/collections/2018LH0636/full/full/0/grey.jpg',\n",
       " 'https://framemark.vam.ac.uk/collections/2019LH9578/full/full/0/grey.jpg',\n",
       " 'https://framemark.vam.ac.uk/collections/2006AY5804/full/full/0/grey.jpg']"
      ]
     },
     "execution_count": 5,
     "metadata": {},
     "output_type": "execute_result"
    }
   ],
   "source": [
    "#get grey scale images for the query Barbie\n",
    "vandapy.get_images(\"Barbie\", quality = \"grey\")"
   ]
  },
  {
   "cell_type": "code",
   "execution_count": 6,
   "metadata": {},
   "outputs": [
    {
     "name": "stdout",
     "output_type": "stream",
     "text": [
      "75410 matching object records for query Paris:\n"
     ]
    },
    {
     "data": {
      "text/plain": [
       "{'category': 'Designs',\n",
       " 'person': 'Worth, Jean-Charles',\n",
       " 'organisation': 'Worth',\n",
       " 'collection': 'Prints, Drawings & Paintings Collection',\n",
       " 'gallery': 'Prints & Drawings Study Room, level E',\n",
       " 'style': 'French School',\n",
       " 'place': 'Paris',\n",
       " 'object_type': 'Fashion design',\n",
       " 'technique': 'watercolour drawing',\n",
       " 'material': 'watercolour',\n",
       " 'maker': 'Worth',\n",
       " 'associated': 'Louvre (Paris)',\n",
       " 'depicts': 'Paris',\n",
       " 'accession_year': '1957'}"
      ]
     },
     "execution_count": 6,
     "metadata": {},
     "output_type": "execute_result"
    }
   ],
   "source": [
    "#get cluster summary for the query Paris\n",
    "vandapy.cluster_summary(\"Paris\")"
   ]
  }
 ],
 "metadata": {
  "kernelspec": {
   "display_name": "Python 3 (ipykernel)",
   "language": "python",
   "name": "python3"
  },
  "language_info": {
   "codemirror_mode": {
    "name": "ipython",
    "version": 3
   },
   "file_extension": ".py",
   "mimetype": "text/x-python",
   "name": "python",
   "nbconvert_exporter": "python",
   "pygments_lexer": "ipython3",
   "version": "3.9.13"
  }
 },
 "nbformat": 4,
 "nbformat_minor": 4
}
